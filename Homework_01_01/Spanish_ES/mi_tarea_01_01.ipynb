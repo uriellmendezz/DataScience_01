{
 "cells": [
  {
   "cell_type": "markdown",
   "metadata": {},
   "source": [
    "# Práctica Clase 1 "
   ]
  },
  {
   "cell_type": "markdown",
   "metadata": {},
   "source": [
    "1) Crear una función capaz de convertir números enteros de base 10 a base 2. Debe recibir como parámetro el número a convertir<br>\n",
    "Consideraciones:<br> \n",
    "a. Tratar de resolverlo sin usar la función format(nro,\"b\")<br>\n",
    "b. El pdf \"conversion-de-decimal-a-binario.pdf\" puede servir de ayuda.\n"
   ]
  },
  {
   "cell_type": "code",
   "execution_count": 9,
   "metadata": {},
   "outputs": [],
   "source": [
    "# Primera forma de hacerlo\n",
    "\n",
    "def NumeroBinario(number):\n",
    "    '''\n",
    "    Esta función recibe como parámetro un número entero mayor ó igual a cero y lo devuelve en su \n",
    "    representación binaria. Debe recibir y devolver un valor de tipo entero.\n",
    "    En caso de que el parámetro no sea de tipo entero y mayor a -1 retorna nulo.\n",
    "    '''\n",
    "    binary = \"\"\n",
    "    if number == 0:\n",
    "        return number\n",
    "    elif number < 0:\n",
    "        return None\n",
    "    while number > 0:\n",
    "        binary = str(number % 2) + binary\n",
    "        number //= 2\n",
    "    return int(binary)"
   ]
  },
  {
   "cell_type": "code",
   "execution_count": 10,
   "metadata": {},
   "outputs": [
    {
     "data": {
      "text/plain": [
       "11000"
      ]
     },
     "execution_count": 10,
     "metadata": {},
     "output_type": "execute_result"
    }
   ],
   "source": [
    "NumeroBinario(24)"
   ]
  },
  {
   "cell_type": "code",
   "execution_count": 12,
   "metadata": {},
   "outputs": [],
   "source": [
    "# Segunda forma de hacerlo\n",
    "def Binario(numero):\n",
    "    binario = []\n",
    "    while numero > 0:\n",
    "        resultado = numero % 2\n",
    "        binario.insert(0,str(resultado))\n",
    "        numero //= 2\n",
    "    numero_binario = \"\".join(binario)\n",
    "\n",
    "    return int(numero_binario)"
   ]
  },
  {
   "cell_type": "code",
   "execution_count": 13,
   "metadata": {},
   "outputs": [
    {
     "data": {
      "text/plain": [
       "10011010010"
      ]
     },
     "execution_count": 13,
     "metadata": {},
     "output_type": "execute_result"
    }
   ],
   "source": [
    "Binario(1234)"
   ]
  },
  {
   "attachments": {},
   "cell_type": "markdown",
   "metadata": {},
   "source": [
    "2) Convertir de decimal a binario las fracciones 1/2, 1/3, 1/4, 1/5, 1/6, 1/7, 1/8, 1/9. Luego analizar los resultados y observar qué particularidad se encuentra en los mismos. Se puede usar Python o una calculadora, lo importante es ver si hay algo que podemos notar..."
   ]
  },
  {
   "attachments": {},
   "cell_type": "markdown",
   "metadata": {},
   "source": [
    "Salida esperada:\n",
    "* Fraccion 1 / 2 :  0.5  y En binario:  0.1\n",
    "* Fraccion 1 / 3 :  0.3333333333333333  y En binario:  0.010101010101010101010101\n",
    "* Fraccion 1 / 4 :  0.25  y En binario:  0.01\n",
    "* Fraccion 1 / 5 :  0.2  y En binario:  0.001100110011001100110011\n",
    "* Fraccion 1 / 6 :  0.16666666666666666  y En binario:  0.001010101010101010101010\n",
    "* Fraccion 1 / 7 :  0.14285714285714285  y En binario:  0.001001001001001001001001\n",
    "* Fraccion 1 / 8 :  0.125  y En binario:  0.001\n",
    "* Fraccion 1 / 9 :  0.1111111111111111  y En binario:  0.000111000111000111000111"
   ]
  },
  {
   "cell_type": "code",
   "execution_count": 21,
   "metadata": {},
   "outputs": [],
   "source": [
    "def frac_to_binary(frac):\n",
    "    if frac >= 1:\n",
    "        print('Debe ingresar un valor menor a uno')\n",
    "        return None\n",
    "    if type(frac) != float:\n",
    "        print('Debe ingresar un valor flotante')\n",
    "        return None\n",
    "    if frac == 0.0:\n",
    "        return 0\n",
    "    if frac < 0:\n",
    "        print('El valor no puede ser negativo')\n",
    "        return None\n",
    "    else:\n",
    "        # Creamos la variable binario en formato str\n",
    "        binario = '0.'\n",
    "        # Creamos la lista de multiplicados vacia\n",
    "        lista_multiplicados = []\n",
    "        # Multiplicamos el primer valor por 2 (porque así es el proceso)\n",
    "        valor = frac * 2\n",
    "        # Añadimos ese valor a la lista de multiplicados\n",
    "        lista_multiplicados.append(valor)\n",
    "        multiplo = 0\n",
    "        contador = 0\n",
    "        for i in lista_multiplicados:\n",
    "            contador += 1\n",
    "            if i == 1.0:\n",
    "                break\n",
    "            if i > 1.0:\n",
    "                \"\"\"\n",
    "                Cuando el valor es mayot que 1.0, le restamos 1.0.\n",
    "                Al resultado de esta operacion lo multiplicamos por 2 (el multiplo)\n",
    "                \"\"\"\n",
    "                multiplo = (i - 1.0)*2\n",
    "                lista_multiplicados.append(multiplo)\n",
    "            else:\n",
    "                multiplo = i * 2\n",
    "                lista_multiplicados.append(multiplo)\n",
    "\n",
    "        for i in lista_multiplicados:\n",
    "            if i >= 1.0:\n",
    "                binario +=  '1'\n",
    "            if i < 1.0:\n",
    "                binario += '0'\n",
    "\n",
    "    return binario"
   ]
  },
  {
   "cell_type": "code",
   "execution_count": 22,
   "metadata": {},
   "outputs": [
    {
     "data": {
      "text/plain": [
       "'0.0011110110111000101110101100011100010000110010110010101'"
      ]
     },
     "execution_count": 22,
     "metadata": {},
     "output_type": "execute_result"
    }
   ],
   "source": [
    "frac_to_binary(0.2411)"
   ]
  }
 ],
 "metadata": {
  "kernelspec": {
   "display_name": "Python 3",
   "language": "python",
   "name": "python3"
  },
  "language_info": {
   "codemirror_mode": {
    "name": "ipython",
    "version": 3
   },
   "file_extension": ".py",
   "mimetype": "text/x-python",
   "name": "python",
   "nbconvert_exporter": "python",
   "pygments_lexer": "ipython3",
   "version": "3.10.11"
  },
  "orig_nbformat": 4,
  "vscode": {
   "interpreter": {
    "hash": "71d03d5864e401fe74ba81288b5b696516438507c31295f3264f5edf807fd0ef"
   }
  }
 },
 "nbformat": 4,
 "nbformat_minor": 2
}
