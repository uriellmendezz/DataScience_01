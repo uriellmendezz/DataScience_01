{
 "cells": [
  {
   "attachments": {},
   "cell_type": "markdown",
   "metadata": {},
   "source": [
    "# Class 1 Practice\n"
   ]
  },
  {
   "attachments": {},
   "cell_type": "markdown",
   "metadata": {},
   "source": [
    "1) Create a function capable of converting integers from base 10 to base 2. It must receive the number to convert as a parameter<br>\n",
    "Considerations:<br>\n",
    "to. Try to solve it without using the function format(no,\"b\")<br>\n",
    "b. The pdf \"conversion-de-decimal-a-binario.pdf\" may help."
   ]
  },
  {
   "cell_type": "code",
   "execution_count": 8,
   "metadata": {},
   "outputs": [],
   "source": [
    "def BinaryNumber(number):\n",
    "    '''\n",
    "     This function receives as a parameter an integer greater than or equal to zero and returns it in its\n",
    "     binary representation. It must receive and return a value of type integer.\n",
    "     If the parameter is not of integer type and is greater than -1, it returns null.\n",
    "    '''\n",
    "    binary = \"\"\n",
    "    if number == 0:\n",
    "        return 0\n",
    "    while number > 0:\n",
    "        binary = str(number % 2) + binary\n",
    "        number //= 2\n",
    "    return int(binary)\n"
   ]
  },
  {
   "cell_type": "code",
   "execution_count": 9,
   "metadata": {},
   "outputs": [
    {
     "data": {
      "text/plain": [
       "1001"
      ]
     },
     "execution_count": 9,
     "metadata": {},
     "output_type": "execute_result"
    }
   ],
   "source": [
    "BinaryNumber(9)"
   ]
  },
  {
   "attachments": {},
   "cell_type": "markdown",
   "metadata": {},
   "source": [
    "2) Convert from decimal to binary the fractions 1/2, 1/3, 1/4, 1/5, 1/6, 1/7, 1/8, 1/9. Then analyze the results and observe what particularity is found in them. You can use Python or a calculator, the important thing is to see if there is anything we can notice..."
   ]
  },
  {
   "attachments": {},
   "cell_type": "markdown",
   "metadata": {},
   "source": [
    "Expected output:\n",
    "* Fraction 1 / 2: 0.5 and In binary: 0.1\n",
    "* Fraction 1 / 3 : 0.3333333333333333 and In binary: 0.010101010101010101010101\n",
    "* Fraction 1 / 4: 0.25 and In binary: 0.01\n",
    "* Fraction 1 / 5 : 0.2 and In binary: 0.001100110011001100110011\n",
    "* Fraction 1 / 6 : 0.16666666666666666 and In binary: 0.001010101010101010101010\n",
    "* Fraction 1 / 7 : 0.14285714285714285 and In binary: 0.001001001001001001001001\n",
    "* Fraction 1 / 8: 0.125 and In binary: 0.001\n",
    "* Fraction 1 / 9 : 0.1111111111111111 and In binary: 0.000111000111000111000111"
   ]
  },
  {
   "cell_type": "code",
   "execution_count": 11,
   "metadata": {},
   "outputs": [],
   "source": [
    "def frac_to_binary(frac):\n",
    "    if frac >= 1:\n",
    "        print('Debe ingresar un valor menor a uno')\n",
    "        return None\n",
    "    if type(frac) != float:\n",
    "        print('Debe ingresar un valor flotante')\n",
    "        return None\n",
    "    if frac == 0.0:\n",
    "        return 0\n",
    "    if frac < 0:\n",
    "        print('El valor no puede ser negativo')\n",
    "        return None\n",
    "    else:\n",
    "        # Creamos la variable binario en formato str\n",
    "        binario = '0.'\n",
    "        # Creamos la lista de multiplicados vacia\n",
    "        lista_multiplicados = []\n",
    "        # Multiplicamos el primer valor por 2 (porque así es el proceso)\n",
    "        valor = frac * 2\n",
    "        # Añadimos ese valor a la lista de multiplicados\n",
    "        lista_multiplicados.append(valor)\n",
    "        multiplo = 0\n",
    "        contador = 0\n",
    "        for i in lista_multiplicados:\n",
    "            contador += 1\n",
    "            if i == 1.0:\n",
    "                break\n",
    "            if i > 1.0:\n",
    "                \"\"\"\n",
    "                Cuando el valor es mayot que 1.0, le restamos 1.0.\n",
    "                Al resultado de esta operacion lo multiplicamos por 2 (el multiplo)\n",
    "                \"\"\"\n",
    "                multiplo = (i - 1.0)*2\n",
    "                lista_multiplicados.append(multiplo)\n",
    "            else:\n",
    "                multiplo = i * 2\n",
    "                lista_multiplicados.append(multiplo)\n",
    "\n",
    "        for i in lista_multiplicados:\n",
    "            if i >= 1.0:\n",
    "                binario +=  '1'\n",
    "            if i < 1.0:\n",
    "                binario += '0'\n",
    "\n",
    "    return binario"
   ]
  },
  {
   "cell_type": "code",
   "execution_count": 12,
   "metadata": {},
   "outputs": [
    {
     "data": {
      "text/plain": [
       "'0.0011110110111000101110101100011100010000110010110010101'"
      ]
     },
     "execution_count": 12,
     "metadata": {},
     "output_type": "execute_result"
    }
   ],
   "source": [
    "frac_to_binary(0.2411)"
   ]
  }
 ],
 "metadata": {
  "kernelspec": {
   "display_name": "Python 3",
   "language": "python",
   "name": "python3"
  },
  "language_info": {
   "codemirror_mode": {
    "name": "ipython",
    "version": 3
   },
   "file_extension": ".py",
   "mimetype": "text/x-python",
   "name": "python",
   "nbconvert_exporter": "python",
   "pygments_lexer": "ipython3",
   "version": "3.10.11"
  },
  "orig_nbformat": 4,
  "vscode": {
   "interpreter": {
    "hash": "71d03d5864e401fe74ba81288b5b696516438507c31295f3264f5edf807fd0ef"
   }
  }
 },
 "nbformat": 4,
 "nbformat_minor": 2
}
